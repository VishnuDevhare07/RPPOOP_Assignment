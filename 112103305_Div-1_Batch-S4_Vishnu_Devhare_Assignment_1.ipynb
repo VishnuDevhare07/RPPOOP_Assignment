{
 "cells": [
  {
   "cell_type": "code",
   "execution_count": 4,
   "id": "d64a1172",
   "metadata": {},
   "outputs": [],
   "source": [
    "class Rectangle():\n",
    "    def __init__(self,l,w):\n",
    "        self.__length = l\n",
    "        self.__width = w\n",
    "    def getLength(self):\n",
    "        return self.__length\n",
    "    def setLength(self,l):\n",
    "        self.__length = l\n",
    "    def getWidth(self):\n",
    "        return self.__width\n",
    "    def setWidth(self,w):\n",
    "        self.__width = w\n",
    "    def getPerimeter(self):\n",
    "        return \"Perimeter of rectangle is \" + str(2*(self.__length + self.__width))\n",
    "    def getArea(self):\n",
    "        return \"Area of rectangle is \" + str(self.__length * self.__width)\n",
    "    def getDimensions(self):\n",
    "        return \"The length of rectangle is \" + str(self.__length) + \" and the width is \" + str(self.__width)"
   ]
  },
  {
   "cell_type": "code",
   "execution_count": 5,
   "id": "f875019a",
   "metadata": {},
   "outputs": [
    {
     "name": "stdout",
     "output_type": "stream",
     "text": [
      "5\n",
      "10\n",
      "The length of rectangle is 5 and the width is 10\n",
      "Perimeter of rectangle is 30\n",
      "Area of rectangle is 50\n"
     ]
    }
   ],
   "source": [
    "r = Rectangle(5,10)\n",
    "print(r.getLength())\n",
    "print(r.getWidth())\n",
    "print(r.getDimensions())\n",
    "print(r.getPerimeter())\n",
    "print(r.getArea())"
   ]
  },
  {
   "cell_type": "code",
   "execution_count": 6,
   "id": "1bc82dc4",
   "metadata": {},
   "outputs": [
    {
     "name": "stdout",
     "output_type": "stream",
     "text": [
      "6\n",
      "12\n",
      "The length of rectangle is 6 and the width is 12\n",
      "Perimeter of rectangle is 36\n",
      "Area of rectangle is 72\n"
     ]
    }
   ],
   "source": [
    "r1 = Rectangle(5,10)\n",
    "r1.setLength(6)\n",
    "r1.setWidth(12)\n",
    "print(r1.getLength())\n",
    "print(r1.getWidth())\n",
    "print(r1.getDimensions())\n",
    "print(r1.getPerimeter())\n",
    "print(r1.getArea())"
   ]
  }
 ],
 "metadata": {
  "kernelspec": {
   "display_name": "Python 3 (ipykernel)",
   "language": "python",
   "name": "python3"
  },
  "language_info": {
   "codemirror_mode": {
    "name": "ipython",
    "version": 3
   },
   "file_extension": ".py",
   "mimetype": "text/x-python",
   "name": "python",
   "nbconvert_exporter": "python",
   "pygments_lexer": "ipython3",
   "version": "3.10.9"
  }
 },
 "nbformat": 4,
 "nbformat_minor": 5
}
