{
 "cells": [
  {
   "cell_type": "code",
   "execution_count": 1,
   "id": "b7334520",
   "metadata": {},
   "outputs": [],
   "source": [
    "from tkinter import *"
   ]
  },
  {
   "cell_type": "code",
   "execution_count": 2,
   "id": "f36bb807",
   "metadata": {},
   "outputs": [
    {
     "data": {
      "text/plain": [
       "''"
      ]
     },
     "execution_count": 2,
     "metadata": {},
     "output_type": "execute_result"
    }
   ],
   "source": [
    "root = Tk()\n",
    "root.title(\"Labels with different colors\")"
   ]
  },
  {
   "cell_type": "code",
   "execution_count": 3,
   "id": "cbc3c499",
   "metadata": {},
   "outputs": [],
   "source": [
    "label1=Label(root, text=\"Label 1\",bg='red',width=45,height=10)\n",
    "label1.pack()"
   ]
  },
  {
   "cell_type": "code",
   "execution_count": 4,
   "id": "21294d10",
   "metadata": {},
   "outputs": [],
   "source": [
    "label2=Label(root, text=\"Label 2\", bg='blue',width=45,height=10)\n",
    "label2.pack()"
   ]
  },
  {
   "cell_type": "code",
   "execution_count": null,
   "id": "d98d0a74",
   "metadata": {},
   "outputs": [],
   "source": [
    "root.mainloop()"
   ]
  },
  {
   "cell_type": "code",
   "execution_count": null,
   "id": "e35f52fb",
   "metadata": {},
   "outputs": [],
   "source": []
  },
  {
   "cell_type": "code",
   "execution_count": null,
   "id": "fbd62768",
   "metadata": {},
   "outputs": [],
   "source": []
  }
 ],
 "metadata": {
  "kernelspec": {
   "display_name": "Python 3 (ipykernel)",
   "language": "python",
   "name": "python3"
  },
  "language_info": {
   "codemirror_mode": {
    "name": "ipython",
    "version": 3
   },
   "file_extension": ".py",
   "mimetype": "text/x-python",
   "name": "python",
   "nbconvert_exporter": "python",
   "pygments_lexer": "ipython3",
   "version": "3.10.9"
  }
 },
 "nbformat": 4,
 "nbformat_minor": 5
}
