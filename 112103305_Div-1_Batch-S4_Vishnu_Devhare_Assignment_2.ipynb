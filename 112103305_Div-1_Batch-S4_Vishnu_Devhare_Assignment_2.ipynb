{
 "cells": [
  {
   "cell_type": "code",
   "execution_count": 1,
   "id": "760c1426",
   "metadata": {},
   "outputs": [],
   "source": [
    "class Polygon():\n",
    "    def __init__(self,s):\n",
    "        self.__numSides = s\n",
    "    def getArea(self):\n",
    "        pass\n",
    "    def getPerimeter(self):\n",
    "        pass\n",
    "    def getDimensions(self):\n",
    "        pass"
   ]
  },
  {
   "cell_type": "code",
   "execution_count": 2,
   "id": "16bb705b",
   "metadata": {},
   "outputs": [],
   "source": [
    "class Rectangle(Polygon):\n",
    "    def __init__(self,l,w):\n",
    "        self.__length = l\n",
    "        self.__width = w\n",
    "    def setLength(self,l):\n",
    "        self.__length = l\n",
    "    def setWidth(self,w):\n",
    "        self.__width = w\n",
    "    def getPerimeter(self):\n",
    "        return \"Perimeter of rectangle is \" + str(2*(self.__length + self.__width))\n",
    "    def getArea(self):\n",
    "        return \"Area of rectangle is \" + str(self.__length * self.__width)\n",
    "    def getDimensions(self):\n",
    "        return \"The length of rectangle is \" + str(self.__length) + \" and the width is \" + str(self.__width)"
   ]
  },
  {
   "cell_type": "code",
   "execution_count": 3,
   "id": "fe632011",
   "metadata": {},
   "outputs": [],
   "source": [
    "class Square(Polygon):\n",
    "    def __init__(self,sL):\n",
    "        self.__sideLength = sL\n",
    "    def getsideLength(self):\n",
    "        return self.__sideLength\n",
    "    def setsideLength(self,sL):\n",
    "        self.__sideLength = sL\n",
    "    def getPerimeter(self):\n",
    "        return \"Perimeter of rectangle is \" + str(4*self.__sideLength)\n",
    "    def getArea(self):\n",
    "        return \"Area of rectangle is \" + str(self.__sideLength * self.__sideLength)\n",
    "    def getDimensions(self):\n",
    "        return \"The length of all sides of square are \" + str(self.__sideLength)"
   ]
  },
  {
   "cell_type": "code",
   "execution_count": 4,
   "id": "835963be",
   "metadata": {},
   "outputs": [
    {
     "name": "stdout",
     "output_type": "stream",
     "text": [
      "The length of rectangle is 5 and the width is 10\n",
      "Perimeter of rectangle is 30\n",
      "Area of rectangle is 50\n"
     ]
    }
   ],
   "source": [
    "r = Rectangle(5,10)\n",
    "print(r.getDimensions())\n",
    "print(r.getPerimeter())\n",
    "print(r.getArea())"
   ]
  },
  {
   "cell_type": "code",
   "execution_count": 5,
   "id": "aa99f6bb",
   "metadata": {},
   "outputs": [
    {
     "name": "stdout",
     "output_type": "stream",
     "text": [
      "The length of rectangle is 6 and the width is 12\n",
      "Perimeter of rectangle is 36\n",
      "Area of rectangle is 72\n"
     ]
    }
   ],
   "source": [
    "r1 = Rectangle(5,10)\n",
    "r1.setLength(6)\n",
    "r1.setWidth(12)\n",
    "print(r1.getDimensions())\n",
    "print(r1.getPerimeter())\n",
    "print(r1.getArea())"
   ]
  },
  {
   "cell_type": "code",
   "execution_count": 10,
   "id": "c508dda3",
   "metadata": {},
   "outputs": [
    {
     "name": "stdout",
     "output_type": "stream",
     "text": [
      "The length of all sides of square are 10\n",
      "Perimeter of rectangle is 40\n",
      "Area of rectangle is 100\n"
     ]
    }
   ],
   "source": [
    "sq = Square(10)\n",
    "print(sq.getDimensions())\n",
    "print(sq.getPerimeter())\n",
    "print(sq.getArea())"
   ]
  },
  {
   "cell_type": "code",
   "execution_count": 11,
   "id": "7f589c68",
   "metadata": {},
   "outputs": [
    {
     "name": "stdout",
     "output_type": "stream",
     "text": [
      "The length of all sides of square are 6\n",
      "Perimeter of rectangle is 24\n",
      "Area of rectangle is 36\n"
     ]
    }
   ],
   "source": [
    "sq1 = Square(10)\n",
    "sq1.setsideLength(6)\n",
    "print(sq1.getDimensions())\n",
    "print(sq1.getPerimeter())\n",
    "print(sq1.getArea())"
   ]
  }
 ],
 "metadata": {
  "kernelspec": {
   "display_name": "Python 3 (ipykernel)",
   "language": "python",
   "name": "python3"
  },
  "language_info": {
   "codemirror_mode": {
    "name": "ipython",
    "version": 3
   },
   "file_extension": ".py",
   "mimetype": "text/x-python",
   "name": "python",
   "nbconvert_exporter": "python",
   "pygments_lexer": "ipython3",
   "version": "3.10.9"
  }
 },
 "nbformat": 4,
 "nbformat_minor": 5
}
