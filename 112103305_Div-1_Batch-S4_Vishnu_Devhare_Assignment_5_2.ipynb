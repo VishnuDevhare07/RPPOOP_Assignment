{
 "cells": [
  {
   "cell_type": "code",
   "execution_count": 1,
   "id": "f485e1a0",
   "metadata": {},
   "outputs": [],
   "source": [
    "from tkinter import *"
   ]
  },
  {
   "cell_type": "code",
   "execution_count": 2,
   "id": "6749cf3e",
   "metadata": {},
   "outputs": [
    {
     "data": {
      "text/plain": [
       "''"
      ]
     },
     "execution_count": 2,
     "metadata": {},
     "output_type": "execute_result"
    }
   ],
   "source": [
    "root = Tk()\n",
    "root.title('Menu Demonstration')"
   ]
  },
  {
   "cell_type": "code",
   "execution_count": 3,
   "id": "703e90bb",
   "metadata": {},
   "outputs": [],
   "source": [
    "menubar = Menu(root)"
   ]
  },
  {
   "cell_type": "code",
   "execution_count": 4,
   "id": "f355a453",
   "metadata": {},
   "outputs": [],
   "source": [
    "file = Menu(menubar, tearoff=0)\n",
    "menubar.add_cascade(label='File', menu=file)\n",
    "file.add_command(label='New File')\n",
    "file.add_command(label='Open...')\n",
    "file.add_command(label='Save')\n",
    "file.add_separator()\n",
    "file.add_command(label='Exit', command=root.destroy)"
   ]
  },
  {
   "cell_type": "code",
   "execution_count": 5,
   "id": "38ce2939",
   "metadata": {},
   "outputs": [],
   "source": [
    "edit = Menu(menubar, tearoff=0)\n",
    "menubar.add_cascade(label='Edit', menu=edit)\n",
    "edit.add_command(label='Cut')\n",
    "edit.add_command(label='Copy')\n",
    "edit.add_command(label='Paste')\n",
    "edit.add_command(label='Select All')\n",
    "edit.add_separator()\n",
    "edit.add_command(label='Find...')\n",
    "edit.add_command(label='Find again')"
   ]
  },
  {
   "cell_type": "code",
   "execution_count": 6,
   "id": "8fe26cf1",
   "metadata": {},
   "outputs": [],
   "source": [
    "help_ = Menu(menubar, tearoff=0)\n",
    "menubar.add_cascade(label='Help', menu=help_)\n",
    "help_.add_command(label='Tk Help')\n",
    "help_.add_command(label='Demo')\n",
    "help_.add_separator()\n",
    "help_.add_command(label='About Tk')"
   ]
  },
  {
   "cell_type": "code",
   "execution_count": null,
   "id": "53ad09ce",
   "metadata": {},
   "outputs": [],
   "source": [
    "root.config(menu=menubar)\n",
    "mainloop()"
   ]
  },
  {
   "cell_type": "code",
   "execution_count": null,
   "id": "1e3890f2",
   "metadata": {},
   "outputs": [],
   "source": []
  }
 ],
 "metadata": {
  "kernelspec": {
   "display_name": "Python 3 (ipykernel)",
   "language": "python",
   "name": "python3"
  },
  "language_info": {
   "codemirror_mode": {
    "name": "ipython",
    "version": 3
   },
   "file_extension": ".py",
   "mimetype": "text/x-python",
   "name": "python",
   "nbconvert_exporter": "python",
   "pygments_lexer": "ipython3",
   "version": "3.10.9"
  }
 },
 "nbformat": 4,
 "nbformat_minor": 5
}
